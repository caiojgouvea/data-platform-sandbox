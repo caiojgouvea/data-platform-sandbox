{
 "cells": [
  {
   "cell_type": "code",
   "execution_count": 1,
   "id": "dd35aabe",
   "metadata": {},
   "outputs": [
    {
     "name": "stderr",
     "output_type": "stream",
     "text": [
      "INFO:__main__:Criando nova sessão Spark para processamento IBGE\n"
     ]
    },
    {
     "name": "stdout",
     "output_type": "stream",
     "text": [
      ":: loading settings :: url = jar:file:/opt/bitnami/spark/jars/ivy-2.5.1.jar!/org/apache/ivy/core/settings/ivysettings.xml\n"
     ]
    },
    {
     "name": "stderr",
     "output_type": "stream",
     "text": [
      "Ivy Default Cache set to: /root/.ivy2/cache\n",
      "The jars for the packages stored in: /root/.ivy2/jars\n",
      "com.databricks#spark-xml_2.12 added as a dependency\n",
      ":: resolving dependencies :: org.apache.spark#spark-submit-parent-006d8f28-3965-440c-beca-4fc26b20fbbf;1.0\n",
      "\tconfs: [default]\n",
      "\tfound com.databricks#spark-xml_2.12;0.17.0 in central\n",
      "\tfound commons-io#commons-io;2.11.0 in central\n",
      "\tfound org.glassfish.jaxb#txw2;3.0.2 in central\n",
      "\tfound org.apache.ws.xmlschema#xmlschema-core;2.3.0 in central\n",
      "\tfound org.scala-lang.modules#scala-collection-compat_2.12;2.9.0 in central\n",
      ":: resolution report :: resolve 220ms :: artifacts dl 9ms\n",
      "\t:: modules in use:\n",
      "\tcom.databricks#spark-xml_2.12;0.17.0 from central in [default]\n",
      "\tcommons-io#commons-io;2.11.0 from central in [default]\n",
      "\torg.apache.ws.xmlschema#xmlschema-core;2.3.0 from central in [default]\n",
      "\torg.glassfish.jaxb#txw2;3.0.2 from central in [default]\n",
      "\torg.scala-lang.modules#scala-collection-compat_2.12;2.9.0 from central in [default]\n",
      "\t---------------------------------------------------------------------\n",
      "\t|                  |            modules            ||   artifacts   |\n",
      "\t|       conf       | number| search|dwnlded|evicted|| number|dwnlded|\n",
      "\t---------------------------------------------------------------------\n",
      "\t|      default     |   5   |   0   |   0   |   0   ||   5   |   0   |\n",
      "\t---------------------------------------------------------------------\n",
      ":: retrieving :: org.apache.spark#spark-submit-parent-006d8f28-3965-440c-beca-4fc26b20fbbf\n",
      "\tconfs: [default]\n",
      "\t0 artifacts copied, 5 already retrieved (0kB/7ms)\n",
      "25/08/28 15:42:39 WARN NativeCodeLoader: Unable to load native-hadoop library for your platform... using builtin-java classes where applicable\n",
      "Setting default log level to \"WARN\".\n",
      "To adjust logging level use sc.setLogLevel(newLevel). For SparkR, use setLogLevel(newLevel).\n",
      "INFO:__main__:Sessão Spark criada com sucesso - Versão: 3.5.6\n"
     ]
    }
   ],
   "source": [
    "from pyspark.sql import SparkSession\n",
    "import logging\n",
    "\n",
    "# Configuração de logging\n",
    "logging.basicConfig(level=logging.INFO)\n",
    "logger = logging.getLogger(__name__)\n",
    "\n",
    "def create_ibge_spark_session():\n",
    "    \"\"\"\n",
    "    Cria uma sessão Spark otimizada para processar XML da API do IBGE\n",
    "    \"\"\"\n",
    "    try:\n",
    "        # Verifica se já existe uma sessão Spark\n",
    "        existing_spark = SparkSession.getActiveSession()\n",
    "        if existing_spark is not None:\n",
    "            logger.info(\"Utilizando sessão Spark existente\")\n",
    "            return existing_spark\n",
    "        \n",
    "        logger.info(\"Criando nova sessão Spark para processamento IBGE\")\n",
    "        \n",
    "        spark = (\n",
    "            SparkSession.builder\n",
    "            .appName(\"ibge-api-processor\")\n",
    "            .master(\"spark://spark-master:7077\")\n",
    "            .config(\"spark.driver.bindAddress\", \"0.0.0.0\")\n",
    "            .config(\"spark.driver.host\", \"datalab-jupyter-notebook\")\n",
    "            # Versão compatível do spark-xml\n",
    "            .config(\"spark.jars.packages\", \"com.databricks:spark-xml_2.12:0.17.0\")\n",
    "            # Otimizações para XML com muitos elementos nulos\n",
    "            .config(\"spark.sql.xml.jackson.options.nullValue\", \"\")\n",
    "            .config(\"spark.sql.xml.jackson.options.emptyStringValue\", \"\")\n",
    "            # Otimizações de performance\n",
    "            .config(\"spark.sql.adaptive.enabled\", \"true\")\n",
    "            .config(\"spark.sql.adaptive.coalescePartitions.enabled\", \"true\")\n",
    "            .config(\"spark.sql.inMemoryColumnarStorage.compressed\", \"true\")\n",
    "            .config(\"spark.sql.parquet.compression.codec\", \"snappy\")\n",
    "            .getOrCreate()\n",
    "        )\n",
    "        \n",
    "        logger.info(f\"Sessão Spark criada com sucesso - Versão: {spark.version}\")\n",
    "        return spark\n",
    "        \n",
    "    except Exception as e:\n",
    "        logger.error(f\"Falha ao criar sessão Spark: {str(e)}\")\n",
    "        raise\n",
    "\n",
    "# Inicializa a sessão Spark\n",
    "try:\n",
    "    spark\n",
    "except NameError:\n",
    "    spark = create_ibge_spark_session()"
   ]
  },
  {
   "cell_type": "code",
   "execution_count": 2,
   "id": "f6bb132e",
   "metadata": {},
   "outputs": [],
   "source": [
    "def read_ibge_json_data(\n",
    "    spark,\n",
    "    api_url: str,\n",
    "    rename: bool = True,\n",
    "    cast_types: bool = True,\n",
    "    timeout: int = 30,\n",
    "):\n",
    "    \"\"\"\n",
    "    Lê dados da API IBGE (formato JSON do SIDRA) e devolve um DataFrame Spark.\n",
    "    Assume que o 1º item do array são os 'cabeçalhos' e os demais são linhas.\n",
    "    \"\"\"\n",
    "    import requests\n",
    "    from pyspark.sql import functions as F\n",
    "\n",
    "    # 1) Baixa JSON\n",
    "    resp = requests.get(api_url, timeout=timeout)\n",
    "    resp.raise_for_status()\n",
    "    data = resp.json()\n",
    "\n",
    "    if not (isinstance(data, list) and len(data) > 1 and isinstance(data[0], dict)):\n",
    "        raise ValueError(\"Formato inesperado: esperado [headers, row1, row2, ...].\")\n",
    "\n",
    "    headers = data[0]           # ex.: {\"D1C\": \"Unidade da Federação (Código)\", ...}\n",
    "    records = data[1:]          # linhas de dados (dicts com D1C, D1N, ..., V)\n",
    "\n",
    "    # 2) Cria DF (usa as chaves presentes nas linhas)\n",
    "    #    Às vezes algumas colunas não vêm em todas as linhas -> usa união de chaves\n",
    "    all_cols = sorted({k for r in records for k in r.keys()})\n",
    "    df = spark.createDataFrame(records).select(*[c for c in all_cols])\n",
    "\n",
    "    # 3) Opcional: renomeia para nomes mais amigáveis\n",
    "    if rename:\n",
    "        rename_map = {\n",
    "            \"D1C\": \"uf_cod\",          \"D1N\": \"uf\",\n",
    "            \"D2C\": \"var_cod\",         \"D2N\": \"variavel\",\n",
    "            \"D3C\": \"ano\",             \"D3N\": \"ano_label\",\n",
    "            \"D4C\": \"sexo_cod\",        \"D4N\": \"sexo\",\n",
    "            \"D5C\": \"idade_cod\",       \"D5N\": \"idade\",\n",
    "            \"D6C\": \"forma_idade_cod\", \"D6N\": \"forma_idade\",\n",
    "            \"MC\":  \"medida_cod\",      \"MN\":  \"unidade_medida\",\n",
    "            \"NC\":  \"nivel_terr_cod\",  \"NN\":  \"nivel_terr\",\n",
    "            \"V\":   \"valor\",\n",
    "            # D7*/D8*/D9* geralmente vêm nulos; ignore se não existirem\n",
    "        }\n",
    "        for old, new in rename_map.items():\n",
    "            if old in df.columns:\n",
    "                df = df.withColumnRenamed(old, new)\n",
    "\n",
    "    # 4) Opcional: cast de tipos (códigos -> int; valor -> numérico)\n",
    "    if cast_types:\n",
    "        def cast_if(colname, t):\n",
    "            from pyspark.sql import functions as F\n",
    "            if colname in df.columns:\n",
    "                return df.withColumn(colname, F.col(colname).cast(t))\n",
    "            return df\n",
    "\n",
    "        int_cols = [\"D1C\",\"D2C\",\"D3C\",\"D4C\",\"D5C\",\"D6C\",\"MC\",\"NC\"]\n",
    "        # se renomeou, ajuste a lista:\n",
    "        int_cols = [c if c in df.columns else {\n",
    "            \"D1C\":\"uf_cod\",\"D2C\":\"var_cod\",\"D3C\":\"ano\",\"D4C\":\"sexo_cod\",\n",
    "            \"D5C\":\"idade_cod\",\"D6C\":\"forma_idade_cod\",\"MC\":\"medida_cod\",\"NC\":\"nivel_terr_cod\"\n",
    "        }.get(c, c) for c in int_cols]\n",
    "\n",
    "        for c in int_cols:\n",
    "            if c in df.columns:\n",
    "                df = df.withColumn(c, F.col(c).cast(\"int\"))\n",
    "\n",
    "        # Valor pode vir como string; tenta long e, se falhar, double\n",
    "        val_col = \"valor\" if \"valor\" in df.columns else \"V\"\n",
    "        if val_col in df.columns:\n",
    "            # troca vírgula decimal por ponto, remove separadores se aparecerem\n",
    "            df = df.withColumn(val_col, F.regexp_replace(F.col(val_col), r\"[.]\", \"\"))\n",
    "            df = df.withColumn(val_col, F.regexp_replace(F.col(val_col), r\",\", \".\"))\n",
    "            df = df.withColumn(val_col, F.col(val_col).cast(\"double\"))\n",
    "\n",
    "    return df\n"
   ]
  },
  {
   "cell_type": "code",
   "execution_count": 10,
   "id": "6d1789b7",
   "metadata": {},
   "outputs": [
    {
     "name": "stderr",
     "output_type": "stream",
     "text": [
      "                                                                                \r"
     ]
    },
    {
     "name": "stdout",
     "output_type": "stream",
     "text": [
      "+------+--------+-------+-------------------+----+---------+--------+--------+---------+-----+---------------+-----------+----------+--------------+--------------+--------------------+---------+\n",
      "|uf_cod|uf      |var_cod|variavel           |ano |ano_label|sexo_cod|sexo    |idade_cod|idade|forma_idade_cod|forma_idade|medida_cod|unidade_medida|nivel_terr_cod|nivel_terr          |valor    |\n",
      "+------+--------+-------+-------------------+----+---------+--------+--------+---------+-----+---------------+-----------+----------+--------------+--------------+--------------------+---------+\n",
      "|11    |Rondônia|93     |População residente|2022|2022     |4       |Homens  |100362   |Total|113635         |Total      |45        |Pessoas       |3             |Unidade da Federação|787987.0 |\n",
      "|11    |Rondônia|93     |População residente|2022|2022     |5       |Mulheres|100362   |Total|113635         |Total      |45        |Pessoas       |3             |Unidade da Federação|793209.0 |\n",
      "|12    |Acre    |93     |População residente|2022|2022     |4       |Homens  |100362   |Total|113635         |Total      |45        |Pessoas       |3             |Unidade da Federação|415332.0 |\n",
      "|12    |Acre    |93     |População residente|2022|2022     |5       |Mulheres|100362   |Total|113635         |Total      |45        |Pessoas       |3             |Unidade da Federação|414686.0 |\n",
      "|13    |Amazonas|93     |População residente|2022|2022     |4       |Homens  |100362   |Total|113635         |Total      |45        |Pessoas       |3             |Unidade da Federação|1965810.0|\n",
      "+------+--------+-------+-------------------+----+---------+--------+--------+---------+-----+---------------+-----------+----------+--------------+--------------+--------------------+---------+\n",
      "only showing top 5 rows\n",
      "\n"
     ]
    }
   ],
   "source": [
    "# URL exemplo da API IBGE (substitua pela URL real)\n",
    "ibge_api_url = \"https://apisidra.ibge.gov.br/values/t/9514/n3/all/v/allxp/p/all/c2/allxt/c287/100362/c286/113635\"\n",
    "\n",
    "df = read_ibge_json_data(spark, ibge_api_url)\n",
    "df.show(5, truncate=False)"
   ]
  },
  {
   "cell_type": "code",
   "execution_count": 7,
   "id": "3c8dfc17",
   "metadata": {},
   "outputs": [],
   "source": [
    "import os\n",
    "hc = spark._jsc.hadoopConfiguration()\n",
    "\n",
    "\n",
    "endpoint   = os.getenv(\"MINIO_ENDPOINT\", \"http://minio:9000\")\n",
    "access_key = os.getenv(\"MINIO_ROOT_USER\")\n",
    "secret_key = os.getenv(\"MINIO_ROOT_PASSWORD\", \"minioadmin\")\n",
    "\n",
    "hc.set(\"fs.s3a.endpoint\", os.getenv(\"MINIO_ENDPOINT\", \"http://minio:9000\"))\n",
    "hc.set(\"fs.s3a.path.style.access\", \"true\")\n",
    "hc.set(\"fs.s3a.connection.ssl.enabled\", \"false\")\n",
    "hc.set(\"fs.s3a.aws.credentials.provider\", \"org.apache.hadoop.fs.s3a.SimpleAWSCredentialsProvider\")\n",
    "hc.set(\"fs.s3a.access.key\", os.getenv(\"MINIO_ROOT_USER\", \"minioadmin\"))\n",
    "hc.set(\"fs.s3a.secret.key\", os.getenv(\"MINIO_ROOT_PASSWORD\", \"minioadmin\"))\n"
   ]
  },
  {
   "cell_type": "code",
   "execution_count": 11,
   "id": "315dcc10",
   "metadata": {},
   "outputs": [
    {
     "name": "stderr",
     "output_type": "stream",
     "text": [
      "25/08/28 15:43:58 WARN MetricsConfig: Cannot locate configuration: tried hadoop-metrics2-s3a-file-system.properties,hadoop-metrics2.properties\n",
      "                                                                                \r"
     ]
    },
    {
     "name": "stdout",
     "output_type": "stream",
     "text": [
      "Escrito em: s3a://lake/bronze/ibge/populacao/ano=2022/\n"
     ]
    }
   ],
   "source": [
    "out_path = \"s3a://lake/bronze/ibge/populacao/ano=2022/\"\n",
    "\n",
    "(df\n",
    " .coalesce(1)  # opcional: menos arquivos p/ teste; remova em produção\n",
    " .write\n",
    " .mode(\"overwrite\")\n",
    " .parquet(out_path)\n",
    ")\n",
    "\n",
    "print(\"Escrito em:\", out_path)"
   ]
  },
  {
   "cell_type": "code",
   "execution_count": 12,
   "id": "ff853e89",
   "metadata": {},
   "outputs": [],
   "source": [
    "spark.stop()"
   ]
  }
 ],
 "metadata": {
  "kernelspec": {
   "display_name": "Python 3 (ipykernel)",
   "language": "python",
   "name": "python3"
  },
  "language_info": {
   "codemirror_mode": {
    "name": "ipython",
    "version": 3
   },
   "file_extension": ".py",
   "mimetype": "text/x-python",
   "name": "python",
   "nbconvert_exporter": "python",
   "pygments_lexer": "ipython3",
   "version": "3.12.10"
  }
 },
 "nbformat": 4,
 "nbformat_minor": 5
}
