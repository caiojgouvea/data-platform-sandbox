{
 "cells": [
  {
   "cell_type": "code",
   "execution_count": 5,
   "id": "35300240",
   "metadata": {},
   "outputs": [
    {
     "name": "stdout",
     "output_type": "stream",
     "text": [
      "Spark: 3.5.6\n"
     ]
    }
   ],
   "source": [
    "from pyspark.sql import SparkSession\n",
    "\n",
    "try:\n",
    "    spark\n",
    "except NameError:\n",
    "    spark = (\n",
    "        SparkSession.builder\n",
    "          .appName(\"nb-smoke\")\n",
    "          .master(\"spark://spark-master:7077\")\n",
    "          .config(\"spark.driver.bindAddress\", \"0.0.0.0\")\n",
    "          .config(\"spark.driver.host\", \"datalab-jupyter-notebook\")\n",
    "          .getOrCreate()\n",
    "    )\n",
    "\n",
    "print(\"Spark:\", spark.version)\n"
   ]
  },
  {
   "cell_type": "code",
   "execution_count": 6,
   "id": "02872149",
   "metadata": {},
   "outputs": [
    {
     "name": "stderr",
     "output_type": "stream",
     "text": [
      "[Stage 0:>                                                          (0 + 3) / 3]\r"
     ]
    },
    {
     "name": "stdout",
     "output_type": "stream",
     "text": [
      "+---+---+\n",
      "| id| x2|\n",
      "+---+---+\n",
      "|  0|  0|\n",
      "|  1|  2|\n",
      "|  2|  4|\n",
      "|  3|  6|\n",
      "|  4|  8|\n",
      "|  5| 10|\n",
      "|  6| 12|\n",
      "|  7| 14|\n",
      "|  8| 16|\n",
      "|  9| 18|\n",
      "+---+---+\n",
      "\n"
     ]
    },
    {
     "name": "stderr",
     "output_type": "stream",
     "text": [
      "                                                                                \r"
     ]
    }
   ],
   "source": [
    "from pyspark.sql import functions as F\n",
    "\n",
    "df = spark.range(10).withColumn(\"x2\", F.col(\"id\") * 2)\n",
    "df.show()"
   ]
  },
  {
   "cell_type": "code",
   "execution_count": 7,
   "id": "db1b2b36",
   "metadata": {},
   "outputs": [
    {
     "name": "stderr",
     "output_type": "stream",
     "text": [
      "[Stage 1:>                                                          (0 + 3) / 3]\r"
     ]
    },
    {
     "name": "stdout",
     "output_type": "stream",
     "text": [
      "+------+------+\n",
      "|max_id|  rows|\n",
      "+------+------+\n",
      "| 99999|100000|\n",
      "+------+------+\n",
      "\n"
     ]
    },
    {
     "name": "stderr",
     "output_type": "stream",
     "text": [
      "                                                                                \r"
     ]
    }
   ],
   "source": [
    "big = spark.range(1_000_00)  # 100k linhas\n",
    "res = big.repartition(4).agg(F.max(\"id\").alias(\"max_id\"), F.count(\"*\").alias(\"rows\"))\n",
    "res.show()"
   ]
  },
  {
   "cell_type": "code",
   "execution_count": 8,
   "id": "10eac669",
   "metadata": {},
   "outputs": [],
   "source": [
    "# opcional: limpa cache\n",
    "spark.catalog.clearCache()\n",
    "\n",
    "# se tiver queries de Structured Streaming ativas, pare-as antes:\n",
    "for q in spark.streams.active:\n",
    "    q.stop()\n",
    "\n",
    "# para o Spark (derruba executors e libera recursos)\n",
    "spark.stop()\n"
   ]
  }
 ],
 "metadata": {
  "kernelspec": {
   "display_name": "Python 3 (ipykernel)",
   "language": "python",
   "name": "python3"
  },
  "language_info": {
   "codemirror_mode": {
    "name": "ipython",
    "version": 3
   },
   "file_extension": ".py",
   "mimetype": "text/x-python",
   "name": "python",
   "nbconvert_exporter": "python",
   "pygments_lexer": "ipython3",
   "version": "3.12.10"
  }
 },
 "nbformat": 4,
 "nbformat_minor": 5
}
